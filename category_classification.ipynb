{
 "cells": [
  {
   "cell_type": "code",
   "execution_count": 2,
   "metadata": {
    "execution": {
     "iopub.execute_input": "2022-04-23T21:01:35.456312Z",
     "iopub.status.busy": "2022-04-23T21:01:35.455608Z",
     "iopub.status.idle": "2022-04-23T21:01:46.121622Z",
     "shell.execute_reply": "2022-04-23T21:01:46.120782Z",
     "shell.execute_reply.started": "2022-04-23T21:01:35.456272Z"
    }
   },
   "outputs": [
    {
     "name": "stdout",
     "output_type": "stream",
     "text": [
      "Collecting pymorphy2\n",
      "  Downloading pymorphy2-0.9.1-py3-none-any.whl (55 kB)\n",
      "     |████████████████████████████████| 55 kB 744 kB/s            \n",
      "\u001b[?25hCollecting pymorphy2-dicts-ru<3.0,>=2.4\n",
      "  Downloading pymorphy2_dicts_ru-2.4.417127.4579844-py2.py3-none-any.whl (8.2 MB)\n",
      "     |████████████████████████████████| 8.2 MB 1.7 MB/s            \n",
      "\u001b[?25hRequirement already satisfied: docopt>=0.6 in /opt/conda/lib/python3.7/site-packages (from pymorphy2) (0.6.2)\n",
      "Collecting dawg-python>=0.7.1\n",
      "  Downloading DAWG_Python-0.7.2-py2.py3-none-any.whl (11 kB)\n",
      "Installing collected packages: pymorphy2-dicts-ru, dawg-python, pymorphy2\n",
      "Successfully installed dawg-python-0.7.2 pymorphy2-0.9.1 pymorphy2-dicts-ru-2.4.417127.4579844\n",
      "\u001b[33mWARNING: Running pip as the 'root' user can result in broken permissions and conflicting behaviour with the system package manager. It is recommended to use a virtual environment instead: https://pip.pypa.io/warnings/venv\u001b[0m\n"
     ]
    }
   ],
   "source": [
    "!pip install pymorphy2"
   ]
  },
  {
   "cell_type": "code",
   "execution_count": 10,
   "metadata": {
    "ExecuteTime": {
     "end_time": "2022-04-25T09:31:17.327155Z",
     "start_time": "2022-04-25T09:31:17.319168Z"
    },
    "execution": {
     "iopub.execute_input": "2022-04-23T21:01:46.124013Z",
     "iopub.status.busy": "2022-04-23T21:01:46.123734Z",
     "iopub.status.idle": "2022-04-23T21:01:51.437204Z",
     "shell.execute_reply": "2022-04-23T21:01:51.436326Z",
     "shell.execute_reply.started": "2022-04-23T21:01:46.123977Z"
    }
   },
   "outputs": [],
   "source": [
    "import os\n",
    "import time\n",
    "\n",
    "import numpy as np\n",
    "import pandas as pd\n",
    "from sklearn.metrics import f1_score\n",
    "from sklearn.model_selection import train_test_split\n",
    "import matplotlib.pyplot as plt\n",
    "\n",
    "from nltk.tokenize import sent_tokenize, word_tokenize\n",
    "import nltk\n",
    "from nltk.corpus import stopwords\n",
    "import pymorphy2\n",
    "import re\n",
    "\n",
    "import tensorflow as tf"
   ]
  },
  {
   "cell_type": "code",
   "execution_count": 11,
   "metadata": {
    "ExecuteTime": {
     "end_time": "2022-04-25T09:31:18.579738Z",
     "start_time": "2022-04-25T09:31:18.039004Z"
    },
    "execution": {
     "iopub.execute_input": "2022-04-23T21:01:51.439245Z",
     "iopub.status.busy": "2022-04-23T21:01:51.438961Z",
     "iopub.status.idle": "2022-04-23T21:01:52.045357Z",
     "shell.execute_reply": "2022-04-23T21:01:52.044476Z",
     "shell.execute_reply.started": "2022-04-23T21:01:51.439202Z"
    }
   },
   "outputs": [
    {
     "name": "stderr",
     "output_type": "stream",
     "text": [
      "[nltk_data] Downloading package punkt to\n",
      "[nltk_data]     C:\\Users\\Михаил\\AppData\\Roaming\\nltk_data...\n",
      "[nltk_data]   Package punkt is already up-to-date!\n",
      "[nltk_data] Downloading package stopwords to\n",
      "[nltk_data]     C:\\Users\\Михаил\\AppData\\Roaming\\nltk_data...\n",
      "[nltk_data]   Package stopwords is already up-to-date!\n"
     ]
    }
   ],
   "source": [
    "nltk.download('punkt')\n",
    "nltk.download('stopwords')\n",
    "morph = pymorphy2.MorphAnalyzer()"
   ]
  },
  {
   "cell_type": "code",
   "execution_count": 12,
   "metadata": {
    "ExecuteTime": {
     "end_time": "2022-04-25T09:31:22.646981Z",
     "start_time": "2022-04-25T09:31:22.142073Z"
    },
    "execution": {
     "iopub.execute_input": "2022-04-23T21:01:52.050419Z",
     "iopub.status.busy": "2022-04-23T21:01:52.050086Z",
     "iopub.status.idle": "2022-04-23T21:01:53.423368Z",
     "shell.execute_reply": "2022-04-23T21:01:53.422638Z",
     "shell.execute_reply.started": "2022-04-23T21:01:52.050380Z"
    }
   },
   "outputs": [],
   "source": [
    "test = pd.read_parquet('data/test.parquet')\n",
    "train = pd.read_parquet('data/train.parquet')\n",
    "tree = pd.read_csv('data/categories_tree.csv')"
   ]
  },
  {
   "cell_type": "code",
   "execution_count": 13,
   "metadata": {
    "ExecuteTime": {
     "end_time": "2022-04-25T09:31:23.718980Z",
     "start_time": "2022-04-25T09:31:23.710956Z"
    },
    "execution": {
     "iopub.execute_input": "2022-04-23T21:01:53.424922Z",
     "iopub.status.busy": "2022-04-23T21:01:53.424672Z",
     "iopub.status.idle": "2022-04-23T21:01:53.430605Z",
     "shell.execute_reply": "2022-04-23T21:01:53.429807Z",
     "shell.execute_reply.started": "2022-04-23T21:01:53.424886Z"
    }
   },
   "outputs": [
    {
     "name": "stdout",
     "output_type": "stream",
     "text": [
      "Train: (283452, 7)\n",
      "Test:  (70864, 6)\n"
     ]
    }
   ],
   "source": [
    "print('Train:', train.shape)\n",
    "print('Test: ', test.shape)"
   ]
  },
  {
   "cell_type": "code",
   "execution_count": 14,
   "metadata": {
    "ExecuteTime": {
     "end_time": "2022-04-25T09:31:24.621049Z",
     "start_time": "2022-04-25T09:31:24.607085Z"
    },
    "execution": {
     "iopub.execute_input": "2022-04-23T21:01:53.432764Z",
     "iopub.status.busy": "2022-04-23T21:01:53.432207Z",
     "iopub.status.idle": "2022-04-23T21:01:53.453089Z",
     "shell.execute_reply": "2022-04-23T21:01:53.452420Z",
     "shell.execute_reply.started": "2022-04-23T21:01:53.432723Z"
    }
   },
   "outputs": [
    {
     "data": {
      "text/html": [
       "<div>\n",
       "<style scoped>\n",
       "    .dataframe tbody tr th:only-of-type {\n",
       "        vertical-align: middle;\n",
       "    }\n",
       "\n",
       "    .dataframe tbody tr th {\n",
       "        vertical-align: top;\n",
       "    }\n",
       "\n",
       "    .dataframe thead th {\n",
       "        text-align: right;\n",
       "    }\n",
       "</style>\n",
       "<table border=\"1\" class=\"dataframe\">\n",
       "  <thead>\n",
       "    <tr style=\"text-align: right;\">\n",
       "      <th></th>\n",
       "      <th>id</th>\n",
       "      <th>title</th>\n",
       "      <th>short_description</th>\n",
       "      <th>name_value_characteristics</th>\n",
       "      <th>rating</th>\n",
       "      <th>feedback_quantity</th>\n",
       "      <th>category_id</th>\n",
       "    </tr>\n",
       "  </thead>\n",
       "  <tbody>\n",
       "    <tr>\n",
       "      <th>0</th>\n",
       "      <td>1267423</td>\n",
       "      <td>Muhle Manikure Песочные колпачки для педикюра ...</td>\n",
       "      <td>Muhle Manikure Колпачок песочный шлифовальный ...</td>\n",
       "      <td>None</td>\n",
       "      <td>0.000000</td>\n",
       "      <td>0</td>\n",
       "      <td>2693</td>\n",
       "    </tr>\n",
       "    <tr>\n",
       "      <th>1</th>\n",
       "      <td>128833</td>\n",
       "      <td>Sony Xperia L1 Защитное стекло 2,5D</td>\n",
       "      <td>None</td>\n",
       "      <td>None</td>\n",
       "      <td>4.666667</td>\n",
       "      <td>9</td>\n",
       "      <td>13408</td>\n",
       "    </tr>\n",
       "    <tr>\n",
       "      <th>2</th>\n",
       "      <td>569924</td>\n",
       "      <td>Конверт для денег Прекрасная роза, 16,5 х 8 см</td>\n",
       "      <td>Конверт для денег «Прекрасная роза», 16,5 × 8 см</td>\n",
       "      <td>None</td>\n",
       "      <td>5.000000</td>\n",
       "      <td>6</td>\n",
       "      <td>11790</td>\n",
       "    </tr>\n",
       "    <tr>\n",
       "      <th>3</th>\n",
       "      <td>1264824</td>\n",
       "      <td>Серьги</td>\n",
       "      <td>None</td>\n",
       "      <td>None</td>\n",
       "      <td>0.000000</td>\n",
       "      <td>0</td>\n",
       "      <td>14076</td>\n",
       "    </tr>\n",
       "    <tr>\n",
       "      <th>4</th>\n",
       "      <td>1339052</td>\n",
       "      <td>Наклейки на унитаз для туалета на крышку бачок...</td>\n",
       "      <td>Водостойкая, интересная наклейка на унитаз раз...</td>\n",
       "      <td>None</td>\n",
       "      <td>0.000000</td>\n",
       "      <td>0</td>\n",
       "      <td>12401</td>\n",
       "    </tr>\n",
       "  </tbody>\n",
       "</table>\n",
       "</div>"
      ],
      "text/plain": [
       "        id                                              title  \\\n",
       "0  1267423  Muhle Manikure Песочные колпачки для педикюра ...   \n",
       "1   128833                Sony Xperia L1 Защитное стекло 2,5D   \n",
       "2   569924     Конверт для денег Прекрасная роза, 16,5 х 8 см   \n",
       "3  1264824                                             Серьги   \n",
       "4  1339052  Наклейки на унитаз для туалета на крышку бачок...   \n",
       "\n",
       "                                   short_description  \\\n",
       "0  Muhle Manikure Колпачок песочный шлифовальный ...   \n",
       "1                                               None   \n",
       "2   Конверт для денег «Прекрасная роза», 16,5 × 8 см   \n",
       "3                                               None   \n",
       "4  Водостойкая, интересная наклейка на унитаз раз...   \n",
       "\n",
       "  name_value_characteristics    rating  feedback_quantity  category_id  \n",
       "0                       None  0.000000                  0         2693  \n",
       "1                       None  4.666667                  9        13408  \n",
       "2                       None  5.000000                  6        11790  \n",
       "3                       None  0.000000                  0        14076  \n",
       "4                       None  0.000000                  0        12401  "
      ]
     },
     "execution_count": 14,
     "metadata": {},
     "output_type": "execute_result"
    }
   ],
   "source": [
    "train.head()"
   ]
  },
  {
   "cell_type": "code",
   "execution_count": null,
   "metadata": {},
   "outputs": [],
   "source": []
  },
  {
   "cell_type": "markdown",
   "metadata": {},
   "source": [
    "## Data preprocessing"
   ]
  },
  {
   "cell_type": "markdown",
   "metadata": {},
   "source": [
    "Для предобработки буду использовать токенизацию из nltk.tokenize, затем отбрасывать все, кроме букв, проверять на русские стоп слова и лемматизировать с помощью pymorphy2"
   ]
  },
  {
   "cell_type": "code",
   "execution_count": 15,
   "metadata": {
    "ExecuteTime": {
     "end_time": "2022-04-25T09:31:26.638488Z",
     "start_time": "2022-04-25T09:31:26.622824Z"
    },
    "execution": {
     "iopub.execute_input": "2022-04-23T21:01:53.454741Z",
     "iopub.status.busy": "2022-04-23T21:01:53.454338Z",
     "iopub.status.idle": "2022-04-23T21:01:53.461604Z",
     "shell.execute_reply": "2022-04-23T21:01:53.460883Z",
     "shell.execute_reply.started": "2022-04-23T21:01:53.454704Z"
    }
   },
   "outputs": [],
   "source": [
    "def preprocessing(x):\n",
    "    text = x\n",
    "    if text != None:\n",
    "        tock_dirt = word_tokenize(text, language=\"russian\")\n",
    "        morph_lst = []\n",
    "        tock = []\n",
    "        for word in tock_dirt:\n",
    "            word = re.sub(\"[^A-Za-zА-Яа-я]\", \" \", word)\n",
    "            for i in word.split():\n",
    "                if i != []:\n",
    "                    if i not in stopwords.words(\"russian\"):\n",
    "                        morph_lst.append(morph.parse(i)[0].normal_form)\n",
    "        return morph_lst\n",
    "    else:\n",
    "        return []"
   ]
  },
  {
   "cell_type": "code",
   "execution_count": 16,
   "metadata": {
    "ExecuteTime": {
     "end_time": "2022-04-25T09:53:15.292456Z",
     "start_time": "2022-04-25T09:31:27.366602Z"
    },
    "execution": {
     "iopub.execute_input": "2022-04-23T20:16:50.137286Z",
     "iopub.status.busy": "2022-04-23T20:16:50.137023Z",
     "iopub.status.idle": "2022-04-23T20:35:48.776132Z",
     "shell.execute_reply": "2022-04-23T20:35:48.775396Z",
     "shell.execute_reply.started": "2022-04-23T20:16:50.137253Z"
    }
   },
   "outputs": [],
   "source": [
    "train_copy = train.copy()\n",
    "\n",
    "col_title = train_copy.title.apply(preprocessing)\n",
    "\n",
    "col_short_description = train_copy.short_description.apply(preprocessing)\n",
    "\n",
    "col_list = (col_title + col_short_description)\n",
    "\n",
    "col_list = col_list.apply(lambda x: list(dict.fromkeys(x)))\n",
    "\n",
    "df_arr = col_list.to_numpy()"
   ]
  },
  {
   "cell_type": "code",
   "execution_count": 9,
   "metadata": {
    "execution": {
     "iopub.execute_input": "2022-04-23T20:35:48.778248Z",
     "iopub.status.busy": "2022-04-23T20:35:48.778001Z",
     "iopub.status.idle": "2022-04-23T20:35:48.782374Z",
     "shell.execute_reply": "2022-04-23T20:35:48.781731Z",
     "shell.execute_reply.started": "2022-04-23T20:35:48.778215Z"
    }
   },
   "outputs": [],
   "source": [
    "#col_list.to_csv('data/col_list.csv')"
   ]
  },
  {
   "cell_type": "code",
   "execution_count": 9,
   "metadata": {
    "execution": {
     "iopub.execute_input": "2022-04-23T21:02:04.454186Z",
     "iopub.status.busy": "2022-04-23T21:02:04.453915Z",
     "iopub.status.idle": "2022-04-23T21:02:12.274591Z",
     "shell.execute_reply": "2022-04-23T21:02:12.273813Z",
     "shell.execute_reply.started": "2022-04-23T21:02:04.454154Z"
    }
   },
   "outputs": [],
   "source": [
    "# Для загрузки уже токенизированных фичей\n",
    "# from ast import literal_eval\n",
    "# col_list = pd.read_csv('data/col_list.csv', index_col='Unnamed: 0', squeeze=True, converters={'lists':literal_eval})\n",
    "# col_list = col_list.apply(eval)\n",
    "# col_list = col_list.apply(lambda x: list(dict.fromkeys(x)))\n",
    "# df_arr = col_list.to_numpy()"
   ]
  },
  {
   "cell_type": "code",
   "execution_count": 17,
   "metadata": {
    "ExecuteTime": {
     "end_time": "2022-04-25T09:53:26.678644Z",
     "start_time": "2022-04-25T09:53:25.412802Z"
    },
    "execution": {
     "iopub.execute_input": "2022-04-23T21:02:22.778044Z",
     "iopub.status.busy": "2022-04-23T21:02:22.777296Z",
     "iopub.status.idle": "2022-04-23T21:02:22.790325Z",
     "shell.execute_reply": "2022-04-23T21:02:22.789467Z",
     "shell.execute_reply.started": "2022-04-23T21:02:22.777992Z"
    }
   },
   "outputs": [],
   "source": [
    "# Приведем наши метки классов к типу category и закодируем с помощью one_hot\n",
    "\n",
    "train[\"category_id\"] = train[\"category_id\"].astype('category')\n",
    "d_cat_id = dict(enumerate(train[\"category_id\"].cat.categories))\n",
    "train[\"cat\"] = train[\"category_id\"].cat.codes\n",
    "train_labels = tf.one_hot(train[\"cat\"], train[\"cat\"].unique().shape[0])"
   ]
  },
  {
   "cell_type": "code",
   "execution_count": 12,
   "metadata": {
    "ExecuteTime": {
     "end_time": "2022-04-22T15:48:57.692246Z",
     "start_time": "2022-04-22T15:48:36.294877Z"
    },
    "execution": {
     "iopub.execute_input": "2022-04-23T21:02:25.454703Z",
     "iopub.status.busy": "2022-04-23T21:02:25.454318Z",
     "iopub.status.idle": "2022-04-23T21:03:07.431844Z",
     "shell.execute_reply": "2022-04-23T21:03:07.431057Z",
     "shell.execute_reply.started": "2022-04-23T21:02:25.454664Z"
    }
   },
   "outputs": [],
   "source": [
    "# Обучим word2vec на наших токенизированных фичах\n",
    "\n",
    "from gensim.models import word2vec\n",
    "\n",
    "#config\n",
    "vector_size = 300\n",
    "\n",
    "w2v_model = word2vec.Word2Vec(\n",
    "    df_arr,\n",
    "    vector_size=vector_size, \n",
    "    window=2,\n",
    "    min_count=1,\n",
    "    sg=1 \n",
    ")"
   ]
  },
  {
   "cell_type": "code",
   "execution_count": 13,
   "metadata": {
    "ExecuteTime": {
     "end_time": "2022-04-22T15:51:24.780852Z",
     "start_time": "2022-04-22T15:51:24.76689Z"
    },
    "execution": {
     "iopub.execute_input": "2022-04-23T21:03:07.433772Z",
     "iopub.status.busy": "2022-04-23T21:03:07.433521Z",
     "iopub.status.idle": "2022-04-23T21:03:07.445194Z",
     "shell.execute_reply": "2022-04-23T21:03:07.444474Z",
     "shell.execute_reply.started": "2022-04-23T21:03:07.433735Z"
    }
   },
   "outputs": [
    {
     "data": {
      "text/plain": [
       "51050"
      ]
     },
     "execution_count": 13,
     "metadata": {},
     "output_type": "execute_result"
    }
   ],
   "source": [
    "vocab_list = list(w2v_model.wv.key_to_index.keys())\n",
    "len(vocab_list)"
   ]
  },
  {
   "cell_type": "markdown",
   "metadata": {},
   "source": [
    "Я буду использовать Keras со слоем Embedding. Чтобы использовать word2vec в этом слое нам нужны веса, организованные в матрицу размером vocab_size x embedding_size. Это не что иное, как матрица, где вектор в i-й строке является вектором i-го слова в словаре модели word2vec."
   ]
  },
  {
   "cell_type": "code",
   "execution_count": 14,
   "metadata": {
    "ExecuteTime": {
     "end_time": "2022-04-22T16:19:59.29993Z",
     "start_time": "2022-04-22T16:19:59.182358Z"
    },
    "execution": {
     "iopub.execute_input": "2022-04-23T21:03:07.447307Z",
     "iopub.status.busy": "2022-04-23T21:03:07.446934Z",
     "iopub.status.idle": "2022-04-23T21:03:07.637973Z",
     "shell.execute_reply": "2022-04-23T21:03:07.637127Z",
     "shell.execute_reply.started": "2022-04-23T21:03:07.447268Z"
    }
   },
   "outputs": [
    {
     "data": {
      "text/plain": [
       "(51050, 300)"
      ]
     },
     "execution_count": 14,
     "metadata": {},
     "output_type": "execute_result"
    }
   ],
   "source": [
    "# Получим embedding matrix\n",
    "\n",
    "vocab = w2v_model.wv.key_to_index.keys()\n",
    "embedding_matrix = w2v_model.wv[vocab]\n",
    "embedding_matrix.shape"
   ]
  },
  {
   "cell_type": "markdown",
   "metadata": {},
   "source": [
    "Для дальнейшей работы нужно стандартизировать размер входного слоя, т.е. определить длину последовательностей и ограничить их.\n",
    "\n",
    "Поэтому я проанализировал длину \"предложений\" в выборке, построив гистограмму количества слов в каждой последовательностей. В среднем большинство образцов содержат около 6-7 слов. Чтобы захватить чуть больше среднего количества слов, я выбрал 10."
   ]
  },
  {
   "cell_type": "code",
   "execution_count": 15,
   "metadata": {
    "ExecuteTime": {
     "end_time": "2022-04-22T16:13:09.658305Z",
     "start_time": "2022-04-22T16:13:09.367136Z"
    },
    "execution": {
     "iopub.execute_input": "2022-04-23T21:03:07.640119Z",
     "iopub.status.busy": "2022-04-23T21:03:07.639796Z",
     "iopub.status.idle": "2022-04-23T21:03:08.950220Z",
     "shell.execute_reply": "2022-04-23T21:03:08.949519Z",
     "shell.execute_reply.started": "2022-04-23T21:03:07.640080Z"
    },
    "scrolled": false
   },
   "outputs": [
    {
     "data": {
      "image/png": "[encoded data removed]",
      "text/plain": [
       "<Figure size 864x576 with 1 Axes>"
      ]
     },
     "metadata": {
      "needs_background": "light"
     },
     "output_type": "display_data"
    }
   ],
   "source": [
    "plt.figure(figsize=(12,8))\n",
    "plt.hist(np.apply_along_axis(lambda x: len(x[0]), axis=0, arr=[df_arr]), bins='auto', histtype='stepfilled')\n",
    "plt.title(\"Histogram of Number of words per Sample\")\n",
    "plt.show()"
   ]
  },
  {
   "cell_type": "markdown",
   "metadata": {},
   "source": [
    "Теперь подготовим данные для обучения: заменим токены индексом слова в словаре word2vec. Во время обучения классификатора, вектор слова будет выбран путем сопоставления индекса токена с номером строки в embedding matrix"
   ]
  },
  {
   "cell_type": "code",
   "execution_count": 16,
   "metadata": {
    "ExecuteTime": {
     "end_time": "2022-04-22T16:08:27.303696Z",
     "start_time": "2022-04-22T16:08:22.622752Z"
    },
    "execution": {
     "iopub.execute_input": "2022-04-23T21:03:16.127433Z",
     "iopub.status.busy": "2022-04-23T21:03:16.127163Z",
     "iopub.status.idle": "2022-04-23T21:03:16.992681Z",
     "shell.execute_reply": "2022-04-23T21:03:16.991923Z",
     "shell.execute_reply.started": "2022-04-23T21:03:16.127402Z"
    }
   },
   "outputs": [],
   "source": [
    "from tensorflow.keras.preprocessing.sequence import pad_sequences"
   ]
  },
  {
   "cell_type": "code",
   "execution_count": 17,
   "metadata": {
    "ExecuteTime": {
     "end_time": "2022-04-22T16:13:18.00874Z",
     "start_time": "2022-04-22T16:13:17.998765Z"
    },
    "execution": {
     "iopub.execute_input": "2022-04-23T21:03:17.945488Z",
     "iopub.status.busy": "2022-04-23T21:03:17.944844Z",
     "iopub.status.idle": "2022-04-23T21:03:17.950885Z",
     "shell.execute_reply": "2022-04-23T21:03:17.950261Z",
     "shell.execute_reply.started": "2022-04-23T21:03:17.945423Z"
    }
   },
   "outputs": [],
   "source": [
    "max_seq_len = 10\n",
    "\n",
    "def w2v_indexed_token_sequences(w2v_model, list_features):\n",
    "    indexed_features = []\n",
    "    for each_seq in list_features:\n",
    "        list_token_indices = []\n",
    "        for each_token in each_seq:\n",
    "            try:\n",
    "                list_token_indices.append(w2v_model.wv.key_to_index[each_token])\n",
    "            except KeyError as e:\n",
    "                continue\n",
    "        indexed_features.append(list_token_indices)\n",
    "    return indexed_features"
   ]
  },
  {
   "cell_type": "code",
   "execution_count": 18,
   "metadata": {
    "ExecuteTime": {
     "end_time": "2022-04-22T16:13:20.912718Z",
     "start_time": "2022-04-22T16:13:19.398381Z"
    },
    "execution": {
     "iopub.execute_input": "2022-04-23T21:03:22.513136Z",
     "iopub.status.busy": "2022-04-23T21:03:22.512859Z",
     "iopub.status.idle": "2022-04-23T21:03:24.855433Z",
     "shell.execute_reply": "2022-04-23T21:03:24.854665Z",
     "shell.execute_reply.started": "2022-04-23T21:03:22.513105Z"
    }
   },
   "outputs": [],
   "source": [
    "indexed_train_features = w2v_indexed_token_sequences(w2v_model, df_arr)\n",
    "\n",
    "padded_train = pad_sequences(indexed_train_features, padding = 'post', maxlen=max_seq_len, truncating='post')"
   ]
  },
  {
   "cell_type": "markdown",
   "metadata": {},
   "source": [
    "## Fit model\n",
    "\n",
    "Слой Embedding из Keras инициализирует матрицу со входным измерением — размером словаря, и выходным измерением — размером репрезентативного вектора, используется для того чтобы составить таблицу всех вхождений слов всего словаря. Для каждого входящего числа — токена в словаре, будет сопоставляться строка из embedding matrix.\n",
    "\n",
    "В конце я использовал полностью связанный слой размерностью 1231 (1231 класса для прогнозирования) с активацией «softmax». Label с наибольшим значением будет считаться как наиболее вероятное значение класса. Обучение в течение 10 эпох с возможностью досрочного завершения"
   ]
  },
  {
   "cell_type": "code",
   "execution_count": 19,
   "metadata": {
    "execution": {
     "iopub.execute_input": "2022-04-23T21:03:27.200394Z",
     "iopub.status.busy": "2022-04-23T21:03:27.199661Z",
     "iopub.status.idle": "2022-04-23T21:03:27.205482Z",
     "shell.execute_reply": "2022-04-23T21:03:27.204504Z",
     "shell.execute_reply.started": "2022-04-23T21:03:27.200355Z"
    }
   },
   "outputs": [],
   "source": [
    "import tensorflow as tf\n",
    "import tensorflow.keras as keras\n",
    "from tensorflow.keras import Sequential\n",
    "from tensorflow.keras.layers import Dense, Embedding, Dropout, LSTM"
   ]
  },
  {
   "cell_type": "code",
   "execution_count": 20,
   "metadata": {
    "ExecuteTime": {
     "end_time": "2022-04-22T16:20:04.672428Z",
     "start_time": "2022-04-22T16:20:04.662416Z"
    },
    "execution": {
     "iopub.execute_input": "2022-04-23T21:03:29.116665Z",
     "iopub.status.busy": "2022-04-23T21:03:29.116088Z",
     "iopub.status.idle": "2022-04-23T21:03:29.124521Z",
     "shell.execute_reply": "2022-04-23T21:03:29.122782Z",
     "shell.execute_reply.started": "2022-04-23T21:03:29.116621Z"
    }
   },
   "outputs": [],
   "source": [
    "def get_model():\n",
    "    model = Sequential()\n",
    "    model.add(\n",
    "        Embedding(input_dim=embedding_matrix.shape[0],\n",
    "                  output_dim=vector_size,\n",
    "                  weights=[embedding_matrix],\n",
    "                  input_length=max_seq_len))\n",
    "    model.add(Dropout(0.6))\n",
    "    model.add(LSTM(max_seq_len,return_sequences=True))\n",
    "    model.add(2 слоя (1231))\n",
    "    model.add(Dense(1231,activation='softmax'))\n",
    "    return model\n",
    " \n",
    "# зададим условие досрочной остановки и сохранения лучшей модели\n",
    "callbacks = [\n",
    "    keras.callbacks.EarlyStopping(monitor=\"val_loss\",\n",
    "                                  patience=2,\n",
    "                                  verbose=1,\n",
    "                                  restore_best_weights=True),\n",
    "    keras.callbacks.ModelCheckpoint(filepath='models/lstm_with_w2v.hdf5',\n",
    "                                    verbose=1,\n",
    "                                    save_best_only=True)\n",
    "]"
   ]
  },
  {
   "cell_type": "code",
   "execution_count": 21,
   "metadata": {
    "execution": {
     "iopub.execute_input": "2022-04-23T21:03:36.942292Z",
     "iopub.status.busy": "2022-04-23T21:03:36.942031Z",
     "iopub.status.idle": "2022-04-23T21:03:36.948185Z",
     "shell.execute_reply": "2022-04-23T21:03:36.947409Z",
     "shell.execute_reply.started": "2022-04-23T21:03:36.942261Z"
    }
   },
   "outputs": [
    {
     "name": "stdout",
     "output_type": "stream",
     "text": [
      "Num GPUs Available:  1\n"
     ]
    }
   ],
   "source": [
    "print(\"Num GPUs Available: \", len(tf.config.list_physical_devices('GPU')))"
   ]
  },
  {
   "cell_type": "code",
   "execution_count": 22,
   "metadata": {
    "ExecuteTime": {
     "start_time": "2022-04-22T16:23:34.013Z"
    },
    "execution": {
     "iopub.execute_input": "2022-04-23T21:03:57.318085Z",
     "iopub.status.busy": "2022-04-23T21:03:57.317549Z",
     "iopub.status.idle": "2022-04-23T21:32:07.307751Z",
     "shell.execute_reply": "2022-04-23T21:32:07.306858Z",
     "shell.execute_reply.started": "2022-04-23T21:03:57.318045Z"
    }
   },
   "outputs": [
    {
     "name": "stderr",
     "output_type": "stream",
     "text": [
      "/opt/conda/lib/python3.7/site-packages/tensorflow/python/data/ops/dataset_ops.py:4212: UserWarning: Even though the `tf.config.experimental_run_functions_eagerly` option is set, this option does not apply to tf.data functions. To force eager execution of tf.data functions, please use `tf.data.experimental.enable_debug_mode()`.\n",
      "  \"Even though the `tf.config.experimental_run_functions_eagerly` \"\n",
      "2022-04-23 21:03:59.484459: W tensorflow/core/framework/cpu_allocator_impl.cc:80] Allocation of 935126688 exceeds 10% of free system memory.\n",
      "2022-04-23 21:04:00.169004: I tensorflow/compiler/mlir/mlir_graph_optimization_pass.cc:185] None of the MLIR Optimization Passes are enabled (registered 2)\n"
     ]
    },
    {
     "name": "stdout",
     "output_type": "stream",
     "text": [
      "Epoch 1/10\n"
     ]
    },
    {
     "name": "stderr",
     "output_type": "stream",
     "text": [
      "2022-04-23 21:04:00.933711: I tensorflow/stream_executor/cuda/cuda_dnn.cc:369] Loaded cuDNN version 8005\n"
     ]
    },
    {
     "name": "stdout",
     "output_type": "stream",
     "text": [
      "5935/5935 [==============================] - 214s 36ms/step - loss: 1.9378 - accuracy: 0.5635 - val_loss: 1.0236 - val_accuracy: 0.7412\n",
      "\n",
      "Epoch 00001: val_loss improved from inf to 1.02360, saving model to models/lstm_with_w2v.hdf5\n",
      "Epoch 2/10\n",
      "4408/5935 [=====================>........] - ETA: 44s - loss: 0.9600 - accuracy: 0.7489"
     ]
    },
    {
     "name": "stderr",
     "output_type": "stream",
     "text": [
      "IOPub message rate exceeded.\n",
      "The notebook server will temporarily stop sending output\n",
      "to the client in order to avoid crashing it.\n",
      "To change this limit, set the config variable\n",
      "`--NotebookApp.iopub_msg_rate_limit`.\n",
      "\n",
      "Current values:\n",
      "NotebookApp.iopub_msg_rate_limit=1000.0 (msgs/sec)\n",
      "NotebookApp.rate_limit_window=3.0 (secs)\n",
      "\n"
     ]
    },
    {
     "name": "stdout",
     "output_type": "stream",
     "text": [
      "5935/5935 [==============================] - 210s 35ms/step - loss: 0.9399 - accuracy: 0.7538 - val_loss: 0.8155 - val_accuracy: 0.7891\n",
      "\n",
      "Epoch 00002: val_loss improved from 1.02360 to 0.81552, saving model to models/lstm_with_w2v.hdf5\n",
      "Epoch 3/10\n",
      "5935/5935 [==============================] - 213s 36ms/step - loss: 0.7294 - accuracy: 0.8024 - val_loss: 0.7358 - val_accuracy: 0.8117\n",
      "\n",
      "Epoch 00003: val_loss improved from 0.81552 to 0.73575, saving model to models/lstm_with_w2v.hdf5\n",
      "Epoch 4/10\n",
      "2237/5935 [==========>...................] - ETA: 1:45 - loss: 0.6133 - accuracy: 0.8278"
     ]
    },
    {
     "name": "stderr",
     "output_type": "stream",
     "text": [
      "IOPub message rate exceeded.\n",
      "The notebook server will temporarily stop sending output\n",
      "to the client in order to avoid crashing it.\n",
      "To change this limit, set the config variable\n",
      "`--NotebookApp.iopub_msg_rate_limit`.\n",
      "\n",
      "Current values:\n",
      "NotebookApp.iopub_msg_rate_limit=1000.0 (msgs/sec)\n",
      "NotebookApp.rate_limit_window=3.0 (secs)\n",
      "\n"
     ]
    },
    {
     "name": "stdout",
     "output_type": "stream",
     "text": [
      "5935/5935 [==============================] - 211s 36ms/step - loss: 0.6127 - accuracy: 0.8287 - val_loss: 0.6991 - val_accuracy: 0.8206\n",
      "\n",
      "Epoch 00004: val_loss improved from 0.73575 to 0.69908, saving model to models/lstm_with_w2v.hdf5\n",
      "Epoch 5/10\n",
      "5610/5935 [===========================>..] - ETA: 9s - loss: 0.5345 - accuracy: 0.8468"
     ]
    },
    {
     "name": "stderr",
     "output_type": "stream",
     "text": [
      "IOPub message rate exceeded.\n",
      "The notebook server will temporarily stop sending output\n",
      "to the client in order to avoid crashing it.\n",
      "To change this limit, set the config variable\n",
      "`--NotebookApp.iopub_msg_rate_limit`.\n",
      "\n",
      "Current values:\n",
      "NotebookApp.iopub_msg_rate_limit=1000.0 (msgs/sec)\n",
      "NotebookApp.rate_limit_window=3.0 (secs)\n",
      "\n"
     ]
    },
    {
     "name": "stdout",
     "output_type": "stream",
     "text": [
      "5935/5935 [==============================] - 208s 35ms/step - loss: 0.5344 - accuracy: 0.8467 - val_loss: 0.6995 - val_accuracy: 0.8241\n",
      "\n",
      "Epoch 00005: val_loss did not improve from 0.69908\n",
      "Epoch 6/10\n",
      "5935/5935 [==============================] - 210s 35ms/step - loss: 0.4747 - accuracy: 0.8602 - val_loss: 0.6914 - val_accuracy: 0.8279\n",
      "\n",
      "Epoch 00006: val_loss improved from 0.69908 to 0.69141, saving model to models/lstm_with_w2v.hdf5\n",
      "Epoch 7/10\n",
      "2318/5935 [==========>...................] - ETA: 1:43 - loss: 0.4147 - accuracy: 0.8736"
     ]
    },
    {
     "name": "stderr",
     "output_type": "stream",
     "text": [
      "IOPub message rate exceeded.\n",
      "The notebook server will temporarily stop sending output\n",
      "to the client in order to avoid crashing it.\n",
      "To change this limit, set the config variable\n",
      "`--NotebookApp.iopub_msg_rate_limit`.\n",
      "\n",
      "Current values:\n",
      "NotebookApp.iopub_msg_rate_limit=1000.0 (msgs/sec)\n",
      "NotebookApp.rate_limit_window=3.0 (secs)\n",
      "\n"
     ]
    }
   ],
   "source": [
    "model = get_model()\n",
    "model.compile(optimizer='adam',loss='categorical_crossentropy',metrics=['accuracy'])\n",
    "tf.config.run_functions_eagerly(True)\n",
    "\n",
    "# Сохраним историю лоссов\n",
    "history = model.fit(padded_train, \n",
    "                    train_labels,\n",
    "                    validation_split=0.33,\n",
    "                    callbacks=callbacks,\n",
    "                    epochs=10)"
   ]
  },
  {
   "cell_type": "code",
   "execution_count": 23,
   "metadata": {
    "execution": {
     "iopub.execute_input": "2022-04-23T21:32:07.310716Z",
     "iopub.status.busy": "2022-04-23T21:32:07.310379Z",
     "iopub.status.idle": "2022-04-23T21:32:22.331294Z",
     "shell.execute_reply": "2022-04-23T21:32:22.330509Z",
     "shell.execute_reply.started": "2022-04-23T21:32:07.310677Z"
    }
   },
   "outputs": [
    {
     "data": {
      "image/png": "[encoded data removed]",
      "text/plain": [
       "<Figure size 1152x576 with 1 Axes>"
      ]
     },
     "metadata": {
      "needs_background": "light"
     },
     "output_type": "display_data"
    }
   ],
   "source": [
    "plt.figure(figsize=(16,8))\n",
    "plt.plot(history.history['accuracy'])\n",
    "plt.plot(history.history['val_accuracy'])\n",
    "plt.title('model accuracy')\n",
    "plt.ylabel('accuracy')\n",
    "plt.xlabel('epoch')\n",
    "plt.legend(['train', 'val'], loc='upper left')\n",
    "plt.show()"
   ]
  },
  {
   "cell_type": "code",
   "execution_count": 24,
   "metadata": {
    "execution": {
     "iopub.execute_input": "2022-04-23T21:32:22.332898Z",
     "iopub.status.busy": "2022-04-23T21:32:22.332638Z",
     "iopub.status.idle": "2022-04-23T21:32:22.550255Z",
     "shell.execute_reply": "2022-04-23T21:32:22.549564Z",
     "shell.execute_reply.started": "2022-04-23T21:32:22.332861Z"
    }
   },
   "outputs": [
    {
     "data": {
      "image/png": "[encoded data removed]",
      "text/plain": [
       "<Figure size 1152x576 with 1 Axes>"
      ]
     },
     "metadata": {
      "needs_background": "light"
     },
     "output_type": "display_data"
    }
   ],
   "source": [
    "plt.figure(figsize=(16,8))\n",
    "plt.plot(history.history['loss'])\n",
    "plt.plot(history.history['val_loss'])\n",
    "plt.title('model loss')\n",
    "plt.ylabel('loss')\n",
    "plt.xlabel('epoch')\n",
    "plt.legend(['train', 'val'], loc='upper right')\n",
    "plt.show()"
   ]
  },
  {
   "cell_type": "code",
   "execution_count": 25,
   "metadata": {
    "execution": {
     "iopub.execute_input": "2022-04-23T21:32:22.552228Z",
     "iopub.status.busy": "2022-04-23T21:32:22.552030Z",
     "iopub.status.idle": "2022-04-23T21:32:25.291236Z",
     "shell.execute_reply": "2022-04-23T21:32:25.290493Z",
     "shell.execute_reply.started": "2022-04-23T21:32:22.552202Z"
    }
   },
   "outputs": [],
   "source": [
    "# Загрузим сохраненную модель\n",
    "\n",
    "model_with_w2v = keras.models.load_model('/models/lstm_with_w2v.hdf5')"
   ]
  },
  {
   "cell_type": "code",
   "execution_count": 42,
   "metadata": {
    "execution": {
     "iopub.execute_input": "2022-04-23T21:58:19.032436Z",
     "iopub.status.busy": "2022-04-23T21:58:19.032115Z",
     "iopub.status.idle": "2022-04-23T21:59:43.047477Z",
     "shell.execute_reply": "2022-04-23T21:59:43.046675Z",
     "shell.execute_reply.started": "2022-04-23T21:58:19.032396Z"
    }
   },
   "outputs": [
    {
     "name": "stderr",
     "output_type": "stream",
     "text": [
      "/opt/conda/lib/python3.7/site-packages/tensorflow/python/data/ops/dataset_ops.py:4212: UserWarning: Even though the `tf.config.experimental_run_functions_eagerly` option is set, this option does not apply to tf.data functions. To force eager execution of tf.data functions, please use `tf.data.experimental.enable_debug_mode()`.\n",
      "  \"Even though the `tf.config.experimental_run_functions_eagerly` \"\n",
      "2022-04-23 21:59:24.928203: W tensorflow/core/framework/cpu_allocator_impl.cc:80] Allocation of 1395717648 exceeds 10% of free system memory.\n",
      "2022-04-23 21:59:41.553434: W tensorflow/core/framework/cpu_allocator_impl.cc:80] Allocation of 1395717648 exceeds 10% of free system memory.\n"
     ]
    }
   ],
   "source": [
    "# Предсказание\n",
    "y_pred_one_hot_encoded = (model_with_w2v.predict(padded_train)> 0.5).astype(\"int32\")\n",
    "\n",
    "# Декодирование предсказания из one-hot вида\n",
    "y_pred_train = np.array(tf.argmax(y_pred_one_hot_encoded, axis=1))"
   ]
  },
  {
   "cell_type": "code",
   "execution_count": 54,
   "metadata": {
    "execution": {
     "iopub.execute_input": "2022-04-23T22:02:56.374251Z",
     "iopub.status.busy": "2022-04-23T22:02:56.373937Z",
     "iopub.status.idle": "2022-04-23T22:02:57.368092Z",
     "shell.execute_reply": "2022-04-23T22:02:57.367023Z",
     "shell.execute_reply.started": "2022-04-23T22:02:56.374212Z"
    }
   },
   "outputs": [
    {
     "name": "stderr",
     "output_type": "stream",
     "text": [
      "/opt/conda/lib/python3.7/site-packages/sklearn/metrics/_classification.py:1308: UndefinedMetricWarning: Precision and F-score are ill-defined and being set to 0.0 in labels with no predicted samples. Use `zero_division` parameter to control this behavior.\n",
      "  _warn_prf(average, modifier, msg_start, len(result))\n",
      "/opt/conda/lib/python3.7/site-packages/sklearn/metrics/_classification.py:1308: UndefinedMetricWarning: Precision and F-score are ill-defined and being set to 0.0 in labels with no predicted samples. Use `zero_division` parameter to control this behavior.\n",
      "  _warn_prf(average, modifier, msg_start, len(result))\n"
     ]
    },
    {
     "name": "stdout",
     "output_type": "stream",
     "text": [
      "accuracy:         0.851767\n",
      "F1 macro_avg:     0.706793599879776\n",
      "F1 weighted_avg:  0.8673095641562565\n"
     ]
    },
    {
     "name": "stderr",
     "output_type": "stream",
     "text": [
      "/opt/conda/lib/python3.7/site-packages/sklearn/metrics/_classification.py:1308: UndefinedMetricWarning: Precision and F-score are ill-defined and being set to 0.0 in labels with no predicted samples. Use `zero_division` parameter to control this behavior.\n",
      "  _warn_prf(average, modifier, msg_start, len(result))\n"
     ]
    }
   ],
   "source": [
    "from sklearn.metrics import classification_report\n",
    "\n",
    "report = classification_report(train['cat'], y_pred_train, output_dict=True)\n",
    "\n",
    "print('accuracy:        ', round(report['accuracy'], 6))\n",
    "print('F1 macro_avg:    ', list(report['macro avg'].values())[2])\n",
    "print('F1 weighted_avg: ', list(report['weighted avg'].values())[2])"
   ]
  },
  {
   "cell_type": "markdown",
   "metadata": {},
   "source": [
    "## hF1"
   ]
  },
  {
   "cell_type": "code",
   "execution_count": 55,
   "metadata": {
    "execution": {
     "iopub.execute_input": "2022-04-23T22:03:01.819212Z",
     "iopub.status.busy": "2022-04-23T22:03:01.818792Z",
     "iopub.status.idle": "2022-04-23T22:03:01.833981Z",
     "shell.execute_reply": "2022-04-23T22:03:01.833100Z",
     "shell.execute_reply.started": "2022-04-23T22:03:01.819165Z"
    }
   },
   "outputs": [],
   "source": [
    "d = dict()\n",
    "for k in train.category_id.unique():\n",
    "    d[k] = []"
   ]
  },
  {
   "cell_type": "code",
   "execution_count": 56,
   "metadata": {
    "execution": {
     "iopub.execute_input": "2022-04-23T22:03:02.544465Z",
     "iopub.status.busy": "2022-04-23T22:03:02.543934Z",
     "iopub.status.idle": "2022-04-23T22:03:04.270221Z",
     "shell.execute_reply": "2022-04-23T22:03:04.269493Z",
     "shell.execute_reply.started": "2022-04-23T22:03:02.544404Z"
    }
   },
   "outputs": [],
   "source": [
    "for item_id in train.category_id.unique():\n",
    "    next_id = item_id\n",
    "    d[item_id].append(next_id)\n",
    "    while next_id != 1:\n",
    "        next_id = int(tree[tree.id == next_id].parent_id.values)\n",
    "        d[item_id].append(next_id)\n",
    "    d[item_id].append(0)"
   ]
  },
  {
   "cell_type": "code",
   "execution_count": 66,
   "metadata": {
    "execution": {
     "iopub.execute_input": "2022-04-23T22:03:39.335735Z",
     "iopub.status.busy": "2022-04-23T22:03:39.335080Z",
     "iopub.status.idle": "2022-04-23T22:03:39.341836Z",
     "shell.execute_reply": "2022-04-23T22:03:39.341133Z",
     "shell.execute_reply.started": "2022-04-23T22:03:39.335695Z"
    }
   },
   "outputs": [],
   "source": [
    "def hF1(true_label, pred_label, d):\n",
    "    nominator_sum = 0\n",
    "    totalPh = 0\n",
    "    totalTh = 0\n",
    "    \n",
    "    for t_label, p_label in zip(true_label, pred_label):\n",
    "        Ph = set(d[p_label])\n",
    "        Th = set(d[t_label])\n",
    "\n",
    "        nominator_sum += len(Ph & Th)\n",
    "        totalPh += len(Ph)\n",
    "        totalTh += len(Th)\n",
    "    \n",
    "    hP = nominator_sum / totalPh\n",
    "    hR = nominator_sum / totalTh\n",
    "    hF = (2 * hP * hR) / (hP + hR)\n",
    "    print(\"hP:  \" + str(hP))\n",
    "    print(\"hR:  \" + str(hR))\n",
    "    print(\"hF1: \" + str(hF))"
   ]
  },
  {
   "cell_type": "code",
   "execution_count": 67,
   "metadata": {
    "execution": {
     "iopub.execute_input": "2022-04-23T22:03:40.407629Z",
     "iopub.status.busy": "2022-04-23T22:03:40.407068Z",
     "iopub.status.idle": "2022-04-23T22:03:40.440734Z",
     "shell.execute_reply": "2022-04-23T22:03:40.440010Z",
     "shell.execute_reply.started": "2022-04-23T22:03:40.407585Z"
    }
   },
   "outputs": [],
   "source": [
    "y_pred = pd.DataFrame(y_pred_train, columns=['pred']).pred.map(d_cat_id).to_list()\n",
    "y_true = train.category_id.to_list()"
   ]
  },
  {
   "cell_type": "code",
   "execution_count": 68,
   "metadata": {
    "execution": {
     "iopub.execute_input": "2022-04-23T22:03:41.082114Z",
     "iopub.status.busy": "2022-04-23T22:03:41.081848Z",
     "iopub.status.idle": "2022-04-23T22:03:41.503962Z",
     "shell.execute_reply": "2022-04-23T22:03:41.503136Z",
     "shell.execute_reply.started": "2022-04-23T22:03:41.082083Z"
    }
   },
   "outputs": [
    {
     "name": "stdout",
     "output_type": "stream",
     "text": [
      "hP:  0.929293503462925\n",
      "hR:  0.9313783107270976\n",
      "hF1: 0.930334739124041\n"
     ]
    }
   ],
   "source": [
    "hF1(y_true, y_pred, d)"
   ]
  },
  {
   "cell_type": "markdown",
   "metadata": {},
   "source": [
    "## Preprocessing Test data"
   ]
  },
  {
   "cell_type": "code",
   "execution_count": 69,
   "metadata": {
    "execution": {
     "iopub.execute_input": "2022-04-23T22:03:48.788823Z",
     "iopub.status.busy": "2022-04-23T22:03:48.788253Z",
     "iopub.status.idle": "2022-04-23T22:08:36.269132Z",
     "shell.execute_reply": "2022-04-23T22:08:36.268370Z",
     "shell.execute_reply.started": "2022-04-23T22:03:48.788784Z"
    }
   },
   "outputs": [],
   "source": [
    "#Токенизируем\n",
    "\n",
    "test_copy = test.copy()\n",
    "\n",
    "col_title = test_copy.title.apply(preprocessing)\n",
    "\n",
    "col_short_description = test_copy.short_description.apply(preprocessing)\n",
    "\n",
    "col_list = (col_title + col_short_description)\n",
    "\n",
    "col_list = col_list.apply(lambda x: list(dict.fromkeys(x)))"
   ]
  },
  {
   "cell_type": "code",
   "execution_count": 70,
   "metadata": {
    "execution": {
     "iopub.execute_input": "2022-04-23T22:08:36.271181Z",
     "iopub.status.busy": "2022-04-23T22:08:36.270913Z",
     "iopub.status.idle": "2022-04-23T22:08:36.301814Z",
     "shell.execute_reply": "2022-04-23T22:08:36.300862Z",
     "shell.execute_reply.started": "2022-04-23T22:08:36.271142Z"
    }
   },
   "outputs": [],
   "source": [
    "test_arr = col_list.to_numpy()"
   ]
  },
  {
   "cell_type": "markdown",
   "metadata": {},
   "source": [
    "При обучении word2vec самостоятельно на относительно небольшой выборке, возникает проблема различия словарей тренировочной и тестовой части данных, т.к. каждое слово хранится с использованием ключа, который однозначно идентифицирует его. \n",
    "\n",
    "Используем метод Out of Vocab (OOV) - сравним и отбросим слова из тестовых данных, используя словарь, используемый для обучения модели Word2Vec."
   ]
  },
  {
   "cell_type": "code",
   "execution_count": 71,
   "metadata": {
    "execution": {
     "iopub.execute_input": "2022-04-23T22:08:36.304656Z",
     "iopub.status.busy": "2022-04-23T22:08:36.304108Z",
     "iopub.status.idle": "2022-04-23T22:09:02.228222Z",
     "shell.execute_reply": "2022-04-23T22:09:02.227488Z",
     "shell.execute_reply.started": "2022-04-23T22:08:36.304616Z"
    }
   },
   "outputs": [],
   "source": [
    "vocab_list = list(w2v_model.wv.key_to_index.keys())\n",
    "\n",
    "def remove_OOV_vocab(sample: list, list_vocab):\n",
    "    in_vocab_sample = []\n",
    "    for each_token in sample:\n",
    "        if each_token in list_vocab:\n",
    "            in_vocab_sample.append(each_token)\n",
    "    return in_vocab_sample\n",
    "  \n",
    "test_arr = [remove_OOV_vocab(each_test_sample, vocab_list) for each_test_sample in test_arr]"
   ]
  },
  {
   "cell_type": "code",
   "execution_count": 72,
   "metadata": {
    "execution": {
     "iopub.execute_input": "2022-04-23T22:09:02.230493Z",
     "iopub.status.busy": "2022-04-23T22:09:02.230087Z",
     "iopub.status.idle": "2022-04-23T22:09:02.755511Z",
     "shell.execute_reply": "2022-04-23T22:09:02.754726Z",
     "shell.execute_reply.started": "2022-04-23T22:09:02.230456Z"
    }
   },
   "outputs": [],
   "source": [
    "indexed_test_features = w2v_indexed_token_sequences(w2v_model, test_arr)\n",
    "\n",
    "padded_test = pad_sequences(indexed_test_features, padding = 'post', maxlen=max_seq_len, truncating='post')"
   ]
  },
  {
   "cell_type": "markdown",
   "metadata": {},
   "source": [
    "## Predict"
   ]
  },
  {
   "cell_type": "code",
   "execution_count": 73,
   "metadata": {
    "execution": {
     "iopub.execute_input": "2022-04-23T22:09:02.757104Z",
     "iopub.status.busy": "2022-04-23T22:09:02.756847Z",
     "iopub.status.idle": "2022-04-23T22:09:19.658072Z",
     "shell.execute_reply": "2022-04-23T22:09:19.655771Z",
     "shell.execute_reply.started": "2022-04-23T22:09:02.757067Z"
    }
   },
   "outputs": [
    {
     "name": "stderr",
     "output_type": "stream",
     "text": [
      "/opt/conda/lib/python3.7/site-packages/tensorflow/python/data/ops/dataset_ops.py:4212: UserWarning: Even though the `tf.config.experimental_run_functions_eagerly` option is set, this option does not apply to tf.data functions. To force eager execution of tf.data functions, please use `tf.data.experimental.enable_debug_mode()`.\n",
      "  \"Even though the `tf.config.experimental_run_functions_eagerly` \"\n"
     ]
    }
   ],
   "source": [
    "y_pred_one_hot_encoded = (model_with_w2v.predict(padded_test)> 0.5).astype(\"int32\")\n",
    "y_pred_test = np.array(tf.argmax(y_pred_one_hot_encoded, axis=1))"
   ]
  },
  {
   "cell_type": "code",
   "execution_count": 74,
   "metadata": {
    "execution": {
     "iopub.execute_input": "2022-04-23T22:09:19.660129Z",
     "iopub.status.busy": "2022-04-23T22:09:19.659871Z",
     "iopub.status.idle": "2022-04-23T22:09:19.684722Z",
     "shell.execute_reply": "2022-04-23T22:09:19.677193Z",
     "shell.execute_reply.started": "2022-04-23T22:09:19.660091Z"
    }
   },
   "outputs": [
    {
     "data": {
      "text/plain": [
       "(70864,)"
      ]
     },
     "execution_count": 74,
     "metadata": {},
     "output_type": "execute_result"
    }
   ],
   "source": [
    "y_pred_test.shape"
   ]
  },
  {
   "cell_type": "code",
   "execution_count": 75,
   "metadata": {
    "execution": {
     "iopub.execute_input": "2022-04-23T22:09:19.689027Z",
     "iopub.status.busy": "2022-04-23T22:09:19.688753Z",
     "iopub.status.idle": "2022-04-23T22:09:19.933379Z",
     "shell.execute_reply": "2022-04-23T22:09:19.932586Z",
     "shell.execute_reply.started": "2022-04-23T22:09:19.688990Z"
    }
   },
   "outputs": [
    {
     "data": {
      "image/png": "[encoded data removed]",
      "text/plain": [
       "<Figure size 864x432 with 1 Axes>"
      ]
     },
     "metadata": {
      "needs_background": "light"
     },
     "output_type": "display_data"
    }
   ],
   "source": [
    "plt.figure(figsize=(12,6))\n",
    "plt.plot(np.unique(y_pred_test, return_counts=True)[1])\n",
    "plt.title('Распределение между предсказанными классами в тестовой выборке')\n",
    "plt.ylabel('Count')\n",
    "plt.xlabel('Label')\n",
    "plt.show()"
   ]
  },
  {
   "cell_type": "code",
   "execution_count": 76,
   "metadata": {
    "execution": {
     "iopub.execute_input": "2022-04-23T22:09:19.937561Z",
     "iopub.status.busy": "2022-04-23T22:09:19.937139Z",
     "iopub.status.idle": "2022-04-23T22:09:20.198690Z",
     "shell.execute_reply": "2022-04-23T22:09:20.197819Z",
     "shell.execute_reply.started": "2022-04-23T22:09:19.937518Z"
    }
   },
   "outputs": [
    {
     "data": {
      "image/png": "[encoded data removed]",
      "text/plain": [
       "<Figure size 864x432 with 1 Axes>"
      ]
     },
     "metadata": {
      "needs_background": "light"
     },
     "output_type": "display_data"
    }
   ],
   "source": [
    "plt.figure(figsize=(12,6))\n",
    "plt.plot(np.unique(y_pred_train, return_counts=True)[1])\n",
    "plt.title('Распределение между предсказанными классами в тренировочной выборке')\n",
    "plt.ylabel('Count')\n",
    "plt.xlabel('Label')\n",
    "plt.show()"
   ]
  },
  {
   "cell_type": "code",
   "execution_count": 22,
   "metadata": {
    "ExecuteTime": {
     "end_time": "2022-04-25T09:57:07.951353Z",
     "start_time": "2022-04-25T09:57:07.934396Z"
    }
   },
   "outputs": [],
   "source": [
    "y_pred = pd.DataFrame(y_pred_test, columns=['pred']).pred.map(d_cat_id).to_list()"
   ]
  },
  {
   "cell_type": "code",
   "execution_count": 24,
   "metadata": {
    "ExecuteTime": {
     "end_time": "2022-04-25T09:57:34.790001Z",
     "start_time": "2022-04-25T09:57:34.702810Z"
    },
    "execution": {
     "iopub.execute_input": "2022-04-23T22:09:20.204560Z",
     "iopub.status.busy": "2022-04-23T22:09:20.202545Z",
     "iopub.status.idle": "2022-04-23T22:09:20.246873Z",
     "shell.execute_reply": "2022-04-23T22:09:20.246140Z",
     "shell.execute_reply.started": "2022-04-23T22:09:20.204513Z"
    }
   },
   "outputs": [],
   "source": [
    "# Сохранение решения\n",
    "\n",
    "submission = pd.DataFrame()\n",
    "submission['id'] = test.id\n",
    "submission['predicted_category_id'] = y_pred\n",
    "submission.to_parquet('./result.parquet', index=False)"
   ]
  },
  {
   "cell_type": "code",
   "execution_count": null,
   "metadata": {},
   "outputs": [],
   "source": []
  }
 ],
 "metadata": {
  "kernelspec": {
   "display_name": "Python 3 (ipykernel)",
   "language": "python",
   "name": "python3"
  },
  "language_info": {
   "codemirror_mode": {
    "name": "ipython",
    "version": 3
   },
   "file_extension": ".py",
   "mimetype": "text/x-python",
   "name": "python",
   "nbconvert_exporter": "python",
   "pygments_lexer": "ipython3",
   "version": "3.8.9"
  }
 },
 "nbformat": 4,
 "nbformat_minor": 4
}
